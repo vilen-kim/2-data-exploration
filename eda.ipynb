{
 "cells": [
  {
   "cell_type": "markdown",
   "id": "d07912a0",
   "metadata": {},
   "source": [
    "# Context"
   ]
  },
  {
   "cell_type": "code",
   "source": [
    "%matplotlib inline\n",
    "import os\n",
    "import numpy as np\n",
    "import pandas as pd\n",
    "import seaborn as sns\n",
    "import matplotlib.pyplot as plt"
   ],
   "metadata": {
    "collapsed": false,
    "pycharm": {
     "name": "#%%\n"
    }
   },
   "execution_count": 212,
   "outputs": []
  },
  {
   "cell_type": "markdown",
   "source": [
    "При чтении данных из файла используем колонку PassengerId в качестве индекса,\n",
    "поскольку это уникальные значения, не являющиеся признаками"
   ],
   "metadata": {
    "collapsed": false
   }
  },
  {
   "cell_type": "code",
   "execution_count": 213,
   "outputs": [],
   "source": [
    "train = pd.read_csv('./train.csv', index_col='PassengerId')"
   ],
   "metadata": {
    "collapsed": false,
    "pycharm": {
     "name": "#%%\n"
    }
   }
  },
  {
   "cell_type": "markdown",
   "source": [
    "Размеры изучаемого массива данных: 100 тыс. записей и 12 признаков."
   ],
   "metadata": {
    "collapsed": false,
    "pycharm": {
     "name": "#%% md\n"
    }
   }
  },
  {
   "cell_type": "code",
   "execution_count": 214,
   "outputs": [
    {
     "data": {
      "text/plain": "(100000, 11)"
     },
     "execution_count": 214,
     "metadata": {},
     "output_type": "execute_result"
    }
   ],
   "source": [
    "train.shape"
   ],
   "metadata": {
    "collapsed": false,
    "pycharm": {
     "name": "#%%\n"
    }
   }
  },
  {
   "cell_type": "code",
   "execution_count": 215,
   "outputs": [
    {
     "data": {
      "text/plain": "             Survived  Pclass              Name   Sex    Age  SibSp  Parch  \\\nPassengerId                                                                  \n0                   1       1  Oconnor, Frankie  male    NaN      2      0   \n1                   0       3       Bryan, Drew  male    NaN      0      0   \n2                   0       3    Owens, Kenneth  male   0.33      1      2   \n3                   0       3     Kramer, James  male  19.00      0      0   \n4                   1       3     Bond, Michael  male  25.00      0      0   \n\n                Ticket   Fare   Cabin Embarked  \nPassengerId                                     \n0               209245  27.14  C12239        S  \n1                27323  13.35     NaN        S  \n2            CA 457703  71.29     NaN        S  \n3             A. 10866  13.04     NaN        S  \n4               427635   7.76     NaN        S  ",
      "text/html": "<div>\n<style scoped>\n    .dataframe tbody tr th:only-of-type {\n        vertical-align: middle;\n    }\n\n    .dataframe tbody tr th {\n        vertical-align: top;\n    }\n\n    .dataframe thead th {\n        text-align: right;\n    }\n</style>\n<table border=\"1\" class=\"dataframe\">\n  <thead>\n    <tr style=\"text-align: right;\">\n      <th></th>\n      <th>Survived</th>\n      <th>Pclass</th>\n      <th>Name</th>\n      <th>Sex</th>\n      <th>Age</th>\n      <th>SibSp</th>\n      <th>Parch</th>\n      <th>Ticket</th>\n      <th>Fare</th>\n      <th>Cabin</th>\n      <th>Embarked</th>\n    </tr>\n    <tr>\n      <th>PassengerId</th>\n      <th></th>\n      <th></th>\n      <th></th>\n      <th></th>\n      <th></th>\n      <th></th>\n      <th></th>\n      <th></th>\n      <th></th>\n      <th></th>\n      <th></th>\n    </tr>\n  </thead>\n  <tbody>\n    <tr>\n      <th>0</th>\n      <td>1</td>\n      <td>1</td>\n      <td>Oconnor, Frankie</td>\n      <td>male</td>\n      <td>NaN</td>\n      <td>2</td>\n      <td>0</td>\n      <td>209245</td>\n      <td>27.14</td>\n      <td>C12239</td>\n      <td>S</td>\n    </tr>\n    <tr>\n      <th>1</th>\n      <td>0</td>\n      <td>3</td>\n      <td>Bryan, Drew</td>\n      <td>male</td>\n      <td>NaN</td>\n      <td>0</td>\n      <td>0</td>\n      <td>27323</td>\n      <td>13.35</td>\n      <td>NaN</td>\n      <td>S</td>\n    </tr>\n    <tr>\n      <th>2</th>\n      <td>0</td>\n      <td>3</td>\n      <td>Owens, Kenneth</td>\n      <td>male</td>\n      <td>0.33</td>\n      <td>1</td>\n      <td>2</td>\n      <td>CA 457703</td>\n      <td>71.29</td>\n      <td>NaN</td>\n      <td>S</td>\n    </tr>\n    <tr>\n      <th>3</th>\n      <td>0</td>\n      <td>3</td>\n      <td>Kramer, James</td>\n      <td>male</td>\n      <td>19.00</td>\n      <td>0</td>\n      <td>0</td>\n      <td>A. 10866</td>\n      <td>13.04</td>\n      <td>NaN</td>\n      <td>S</td>\n    </tr>\n    <tr>\n      <th>4</th>\n      <td>1</td>\n      <td>3</td>\n      <td>Bond, Michael</td>\n      <td>male</td>\n      <td>25.00</td>\n      <td>0</td>\n      <td>0</td>\n      <td>427635</td>\n      <td>7.76</td>\n      <td>NaN</td>\n      <td>S</td>\n    </tr>\n  </tbody>\n</table>\n</div>"
     },
     "execution_count": 215,
     "metadata": {},
     "output_type": "execute_result"
    }
   ],
   "source": [
    "train.head()"
   ],
   "metadata": {
    "collapsed": false,
    "pycharm": {
     "name": "#%%\n"
    }
   }
  },
  {
   "cell_type": "markdown",
   "source": [
    "Расшифровка признаков:\n",
    "1. PassengerId - идентификатор пассажира;\n",
    "2. Pclass - класс билета (1 - высокий, 2 - средний, 3 - низкий);\n",
    "3. Sex - пол;\n",
    "4. Age - возраст;\n",
    "5. SibSp - количество членов семьи: братья, сестры (включая сводные), жена, муж;\n",
    "6. Parch - количество членов семьи: дочь, сын (включая приемные), мать, отец;\n",
    "7. Ticket - номер билета;\n",
    "8. Fare - стоимость оплаты;\n",
    "9. Cabin - номер каюты;\n",
    "10. Embarked - порт посадки."
   ],
   "metadata": {
    "collapsed": false
   }
  },
  {
   "cell_type": "markdown",
   "source": [
    "Количество выживших пассажиров - 42774 (42%)."
   ],
   "metadata": {
    "collapsed": false,
    "pycharm": {
     "name": "#%% md\n"
    }
   }
  },
  {
   "cell_type": "code",
   "execution_count": 216,
   "outputs": [
    {
     "data": {
      "text/plain": "42774"
     },
     "execution_count": 216,
     "metadata": {},
     "output_type": "execute_result"
    }
   ],
   "source": [
    "len(train[train.Survived == 1])"
   ],
   "metadata": {
    "collapsed": false,
    "pycharm": {
     "name": "#%%\n"
    }
   }
  },
  {
   "cell_type": "markdown",
   "id": "9b4320c6",
   "metadata": {},
   "source": [
    "# Data quality assessment"
   ]
  },
  {
   "cell_type": "code",
   "execution_count": 217,
   "outputs": [
    {
     "data": {
      "text/plain": "            Survived         Pclass           Age          SibSp  \\\ncount  100000.000000  100000.000000  96708.000000  100000.000000   \nmean        0.427740       2.106910     38.355472       0.397690   \nstd         0.494753       0.837727     18.313556       0.862566   \nmin         0.000000       1.000000      0.080000       0.000000   \n25%         0.000000       1.000000     25.000000       0.000000   \n50%         0.000000       2.000000     39.000000       0.000000   \n75%         1.000000       3.000000     53.000000       1.000000   \nmax         1.000000       3.000000     87.000000       8.000000   \n\n               Parch         Fare  \ncount  100000.000000  99866.00000  \nmean        0.454560     43.92933  \nstd         0.950076     69.58882  \nmin         0.000000      0.68000  \n25%         0.000000     10.04000  \n50%         0.000000     24.46000  \n75%         1.000000     33.50000  \nmax         9.000000    744.66000  ",
      "text/html": "<div>\n<style scoped>\n    .dataframe tbody tr th:only-of-type {\n        vertical-align: middle;\n    }\n\n    .dataframe tbody tr th {\n        vertical-align: top;\n    }\n\n    .dataframe thead th {\n        text-align: right;\n    }\n</style>\n<table border=\"1\" class=\"dataframe\">\n  <thead>\n    <tr style=\"text-align: right;\">\n      <th></th>\n      <th>Survived</th>\n      <th>Pclass</th>\n      <th>Age</th>\n      <th>SibSp</th>\n      <th>Parch</th>\n      <th>Fare</th>\n    </tr>\n  </thead>\n  <tbody>\n    <tr>\n      <th>count</th>\n      <td>100000.000000</td>\n      <td>100000.000000</td>\n      <td>96708.000000</td>\n      <td>100000.000000</td>\n      <td>100000.000000</td>\n      <td>99866.00000</td>\n    </tr>\n    <tr>\n      <th>mean</th>\n      <td>0.427740</td>\n      <td>2.106910</td>\n      <td>38.355472</td>\n      <td>0.397690</td>\n      <td>0.454560</td>\n      <td>43.92933</td>\n    </tr>\n    <tr>\n      <th>std</th>\n      <td>0.494753</td>\n      <td>0.837727</td>\n      <td>18.313556</td>\n      <td>0.862566</td>\n      <td>0.950076</td>\n      <td>69.58882</td>\n    </tr>\n    <tr>\n      <th>min</th>\n      <td>0.000000</td>\n      <td>1.000000</td>\n      <td>0.080000</td>\n      <td>0.000000</td>\n      <td>0.000000</td>\n      <td>0.68000</td>\n    </tr>\n    <tr>\n      <th>25%</th>\n      <td>0.000000</td>\n      <td>1.000000</td>\n      <td>25.000000</td>\n      <td>0.000000</td>\n      <td>0.000000</td>\n      <td>10.04000</td>\n    </tr>\n    <tr>\n      <th>50%</th>\n      <td>0.000000</td>\n      <td>2.000000</td>\n      <td>39.000000</td>\n      <td>0.000000</td>\n      <td>0.000000</td>\n      <td>24.46000</td>\n    </tr>\n    <tr>\n      <th>75%</th>\n      <td>1.000000</td>\n      <td>3.000000</td>\n      <td>53.000000</td>\n      <td>1.000000</td>\n      <td>1.000000</td>\n      <td>33.50000</td>\n    </tr>\n    <tr>\n      <th>max</th>\n      <td>1.000000</td>\n      <td>3.000000</td>\n      <td>87.000000</td>\n      <td>8.000000</td>\n      <td>9.000000</td>\n      <td>744.66000</td>\n    </tr>\n  </tbody>\n</table>\n</div>"
     },
     "execution_count": 217,
     "metadata": {},
     "output_type": "execute_result"
    }
   ],
   "source": [
    "train.describe()"
   ],
   "metadata": {
    "collapsed": false,
    "pycharm": {
     "name": "#%%\n"
    }
   }
  },
  {
   "cell_type": "markdown",
   "source": [
    "Для удобства параметры признаков занесем в отдельную таблицу.\n",
    "Добавим туда:\n",
    "1. тип данных в колонке;\n",
    "2. количество значений в колонке;\n",
    "3. количество пропущенных значений;\n",
    "4. количество уникальных значений."
   ],
   "metadata": {
    "collapsed": false
   }
  },
  {
   "cell_type": "code",
   "execution_count": 218,
   "outputs": [
    {
     "data": {
      "text/plain": "             type   count  missing  unique\nSurvived    int64  100000        0       2\nPclass      int64  100000        0       3\nName       object  100000        0   92144\nSex        object  100000        0       2\nAge       float64   96708     3292     173\nSibSp       int64  100000        0       7\nParch       int64  100000        0       8\nTicket     object   95377     4623   75331\nFare      float64   99866      134   15935\nCabin      object   32134    67866   26992\nEmbarked   object   99750      250       3",
      "text/html": "<div>\n<style scoped>\n    .dataframe tbody tr th:only-of-type {\n        vertical-align: middle;\n    }\n\n    .dataframe tbody tr th {\n        vertical-align: top;\n    }\n\n    .dataframe thead th {\n        text-align: right;\n    }\n</style>\n<table border=\"1\" class=\"dataframe\">\n  <thead>\n    <tr style=\"text-align: right;\">\n      <th></th>\n      <th>type</th>\n      <th>count</th>\n      <th>missing</th>\n      <th>unique</th>\n    </tr>\n  </thead>\n  <tbody>\n    <tr>\n      <th>Survived</th>\n      <td>int64</td>\n      <td>100000</td>\n      <td>0</td>\n      <td>2</td>\n    </tr>\n    <tr>\n      <th>Pclass</th>\n      <td>int64</td>\n      <td>100000</td>\n      <td>0</td>\n      <td>3</td>\n    </tr>\n    <tr>\n      <th>Name</th>\n      <td>object</td>\n      <td>100000</td>\n      <td>0</td>\n      <td>92144</td>\n    </tr>\n    <tr>\n      <th>Sex</th>\n      <td>object</td>\n      <td>100000</td>\n      <td>0</td>\n      <td>2</td>\n    </tr>\n    <tr>\n      <th>Age</th>\n      <td>float64</td>\n      <td>96708</td>\n      <td>3292</td>\n      <td>173</td>\n    </tr>\n    <tr>\n      <th>SibSp</th>\n      <td>int64</td>\n      <td>100000</td>\n      <td>0</td>\n      <td>7</td>\n    </tr>\n    <tr>\n      <th>Parch</th>\n      <td>int64</td>\n      <td>100000</td>\n      <td>0</td>\n      <td>8</td>\n    </tr>\n    <tr>\n      <th>Ticket</th>\n      <td>object</td>\n      <td>95377</td>\n      <td>4623</td>\n      <td>75331</td>\n    </tr>\n    <tr>\n      <th>Fare</th>\n      <td>float64</td>\n      <td>99866</td>\n      <td>134</td>\n      <td>15935</td>\n    </tr>\n    <tr>\n      <th>Cabin</th>\n      <td>object</td>\n      <td>32134</td>\n      <td>67866</td>\n      <td>26992</td>\n    </tr>\n    <tr>\n      <th>Embarked</th>\n      <td>object</td>\n      <td>99750</td>\n      <td>250</td>\n      <td>3</td>\n    </tr>\n  </tbody>\n</table>\n</div>"
     },
     "execution_count": 218,
     "metadata": {},
     "output_type": "execute_result"
    }
   ],
   "source": [
    "columns = pd.DataFrame()\n",
    "columns['type'] = train.dtypes\n",
    "columns['count'] = train.count()\n",
    "columns['missing'] = train.isnull().sum()\n",
    "columns['unique'] = train.nunique()\n",
    "columns"
   ],
   "metadata": {
    "collapsed": false,
    "pycharm": {
     "name": "#%%\n"
    }
   }
  },
  {
   "cell_type": "markdown",
   "source": [
    "Видим, что имеются пропущенные значения в некоторых признаках.\n",
    "Удалим их из признаков Age, Fare и Embarked.\n",
    "Также удалим признак Ticket, поскольку выживаемость от него никак не зависит.\n",
    "Признак Cabin пока не трогаем, иначе мы лишимся большей части данных, что повлияет\n",
    "на распределение и зависимости."
   ],
   "metadata": {
    "collapsed": false
   }
  },
  {
   "cell_type": "code",
   "execution_count": 219,
   "outputs": [
    {
     "name": "stderr",
     "output_type": "stream",
     "text": [
      "C:\\Temp\\ipykernel_18420\\2954424597.py:2: SettingWithCopyWarning: \n",
      "A value is trying to be set on a copy of a slice from a DataFrame\n",
      "\n",
      "See the caveats in the documentation: https://pandas.pydata.org/pandas-docs/stable/user_guide/indexing.html#returning-a-view-versus-a-copy\n",
      "  train_drop.drop('Ticket', axis=1, inplace=True)\n"
     ]
    },
    {
     "data": {
      "text/plain": "             type  count  missing  unique\nSurvived    int64  96332        0       2\nPclass      int64  96332        0       3\nName       object  96332        0   88951\nSex        object  96332        0       2\nAge       float64  96332        0     173\nSibSp       int64  96332        0       7\nParch       int64  96332        0       8\nFare      float64  96332        0   15638\nCabin      object  30961    65371   26175\nEmbarked   object  96332        0       3",
      "text/html": "<div>\n<style scoped>\n    .dataframe tbody tr th:only-of-type {\n        vertical-align: middle;\n    }\n\n    .dataframe tbody tr th {\n        vertical-align: top;\n    }\n\n    .dataframe thead th {\n        text-align: right;\n    }\n</style>\n<table border=\"1\" class=\"dataframe\">\n  <thead>\n    <tr style=\"text-align: right;\">\n      <th></th>\n      <th>type</th>\n      <th>count</th>\n      <th>missing</th>\n      <th>unique</th>\n    </tr>\n  </thead>\n  <tbody>\n    <tr>\n      <th>Survived</th>\n      <td>int64</td>\n      <td>96332</td>\n      <td>0</td>\n      <td>2</td>\n    </tr>\n    <tr>\n      <th>Pclass</th>\n      <td>int64</td>\n      <td>96332</td>\n      <td>0</td>\n      <td>3</td>\n    </tr>\n    <tr>\n      <th>Name</th>\n      <td>object</td>\n      <td>96332</td>\n      <td>0</td>\n      <td>88951</td>\n    </tr>\n    <tr>\n      <th>Sex</th>\n      <td>object</td>\n      <td>96332</td>\n      <td>0</td>\n      <td>2</td>\n    </tr>\n    <tr>\n      <th>Age</th>\n      <td>float64</td>\n      <td>96332</td>\n      <td>0</td>\n      <td>173</td>\n    </tr>\n    <tr>\n      <th>SibSp</th>\n      <td>int64</td>\n      <td>96332</td>\n      <td>0</td>\n      <td>7</td>\n    </tr>\n    <tr>\n      <th>Parch</th>\n      <td>int64</td>\n      <td>96332</td>\n      <td>0</td>\n      <td>8</td>\n    </tr>\n    <tr>\n      <th>Fare</th>\n      <td>float64</td>\n      <td>96332</td>\n      <td>0</td>\n      <td>15638</td>\n    </tr>\n    <tr>\n      <th>Cabin</th>\n      <td>object</td>\n      <td>30961</td>\n      <td>65371</td>\n      <td>26175</td>\n    </tr>\n    <tr>\n      <th>Embarked</th>\n      <td>object</td>\n      <td>96332</td>\n      <td>0</td>\n      <td>3</td>\n    </tr>\n  </tbody>\n</table>\n</div>"
     },
     "execution_count": 219,
     "metadata": {},
     "output_type": "execute_result"
    }
   ],
   "source": [
    "train_drop = train.dropna(subset=['Age', 'Fare', 'Embarked'])\n",
    "train_drop.drop('Ticket', axis=1, inplace=True)\n",
    "columns_drop = pd.DataFrame()\n",
    "columns_drop['type'] = train_drop.dtypes\n",
    "columns_drop['count'] = train_drop.count()\n",
    "columns_drop['missing'] = train_drop.isnull().sum()\n",
    "columns_drop['unique'] = train_drop.nunique()\n",
    "columns_drop"
   ],
   "metadata": {
    "collapsed": false,
    "pycharm": {
     "name": "#%%\n"
    }
   }
  },
  {
   "cell_type": "markdown",
   "source": [
    "Количество и уникальные значения изменились не сильно, следовательно так и оставим."
   ],
   "metadata": {
    "collapsed": false
   }
  },
  {
   "cell_type": "markdown",
   "source": [
    "Попробуем выяснить зависимость от буквы каюты и шансов на выживание.\n",
    "Из тех данных, что есть, видно, что больше всего шансов выжить у пассажиров, чья\n",
    "каюта начинается на буквы F или G."
   ],
   "metadata": {
    "collapsed": false
   }
  },
  {
   "cell_type": "code",
   "execution_count": 220,
   "outputs": [
    {
     "name": "stderr",
     "output_type": "stream",
     "text": [
      "C:\\Temp\\ipykernel_18420\\3695822173.py:1: SettingWithCopyWarning: \n",
      "A value is trying to be set on a copy of a slice from a DataFrame.\n",
      "Try using .loc[row_indexer,col_indexer] = value instead\n",
      "\n",
      "See the caveats in the documentation: https://pandas.pydata.org/pandas-docs/stable/user_guide/indexing.html#returning-a-view-versus-a-copy\n",
      "  train_drop['cabin_letter'] = train_drop.Cabin.str[0]\n"
     ]
    },
    {
     "data": {
      "text/plain": "<AxesSubplot:xlabel='cabin_letter', ylabel='Survived'>"
     },
     "execution_count": 220,
     "metadata": {},
     "output_type": "execute_result"
    },
    {
     "data": {
      "text/plain": "<Figure size 432x288 with 1 Axes>",
      "image/png": "[encoded data removed]"
     },
     "metadata": {
      "needs_background": "light"
     },
     "output_type": "display_data"
    }
   ],
   "source": [
    "train_drop['cabin_letter'] = train_drop.Cabin.str[0]\n",
    "sns.barplot(x='cabin_letter', y='Survived', data=train_drop)"
   ],
   "metadata": {
    "collapsed": false,
    "pycharm": {
     "name": "#%%\n"
    }
   }
  },
  {
   "cell_type": "markdown",
   "source": [
    "Теперь взглянем на количество кают для каждой буквы."
   ],
   "metadata": {
    "collapsed": false
   }
  },
  {
   "cell_type": "code",
   "execution_count": 221,
   "outputs": [
    {
     "data": {
      "text/plain": "<AxesSubplot:xlabel='cabin_letter', ylabel='count'>"
     },
     "execution_count": 221,
     "metadata": {},
     "output_type": "execute_result"
    },
    {
     "data": {
      "text/plain": "<Figure size 432x288 with 1 Axes>",
      "image/png": "[encoded data removed]"
     },
     "metadata": {
      "needs_background": "light"
     },
     "output_type": "display_data"
    }
   ],
   "source": [
    "sns.countplot(x='cabin_letter', data=train_drop)"
   ],
   "metadata": {
    "collapsed": false,
    "pycharm": {
     "name": "#%%\n"
    }
   }
  },
  {
   "cell_type": "markdown",
   "source": [
    "Количество кают, начинающихся на буквы F или G, гораздо меньше других кают, поэтому не стоит принимать номер каюты во внимание.\n",
    "Удаляем столбец."
   ],
   "metadata": {
    "collapsed": false
   }
  },
  {
   "cell_type": "code",
   "execution_count": 222,
   "outputs": [
    {
     "name": "stderr",
     "output_type": "stream",
     "text": [
      "C:\\Temp\\ipykernel_18420\\3563676560.py:1: SettingWithCopyWarning: \n",
      "A value is trying to be set on a copy of a slice from a DataFrame\n",
      "\n",
      "See the caveats in the documentation: https://pandas.pydata.org/pandas-docs/stable/user_guide/indexing.html#returning-a-view-versus-a-copy\n",
      "  train_drop.drop(['Cabin', 'cabin_letter'], axis=1, inplace=True)\n"
     ]
    }
   ],
   "source": [
    "train_drop.drop(['Cabin', 'cabin_letter'], axis=1, inplace=True)"
   ],
   "metadata": {
    "collapsed": false,
    "pycharm": {
     "name": "#%%\n"
    }
   }
  },
  {
   "cell_type": "code",
   "execution_count": 223,
   "outputs": [
    {
     "name": "stdout",
     "output_type": "stream",
     "text": [
      "<class 'pandas.core.frame.DataFrame'>\n",
      "Int64Index: 96332 entries, 2 to 99999\n",
      "Data columns (total 9 columns):\n",
      " #   Column    Non-Null Count  Dtype  \n",
      "---  ------    --------------  -----  \n",
      " 0   Survived  96332 non-null  int64  \n",
      " 1   Pclass    96332 non-null  int64  \n",
      " 2   Name      96332 non-null  object \n",
      " 3   Sex       96332 non-null  object \n",
      " 4   Age       96332 non-null  float64\n",
      " 5   SibSp     96332 non-null  int64  \n",
      " 6   Parch     96332 non-null  int64  \n",
      " 7   Fare      96332 non-null  float64\n",
      " 8   Embarked  96332 non-null  object \n",
      "dtypes: float64(2), int64(4), object(3)\n",
      "memory usage: 7.3+ MB\n"
     ]
    }
   ],
   "source": [
    "train_drop.info()"
   ],
   "metadata": {
    "collapsed": false,
    "pycharm": {
     "name": "#%%\n"
    }
   }
  },
  {
   "cell_type": "markdown",
   "source": [
    "Итак, мы избавились от пустых значений, можно проводить обработку далее."
   ],
   "metadata": {
    "collapsed": false
   }
  },
  {
   "cell_type": "markdown",
   "source": [
    "# Data exploration"
   ],
   "metadata": {
    "collapsed": false
   }
  },
  {
   "cell_type": "markdown",
   "source": [
    "<b>Анализ Pclass</b>\n",
    "На графике видно, что количество кают первого и второго класса примерно равно, кают третьего класса на 30% больше.\n",
    "Но количество спасшихся из кают более высокого класса больше, чем из кают более низкого класса.\n",
    "Возможно, это связано с физическим местоположением кают третьего класса, вследствие чего из них сложнее было спастись.\n",
    "Или же пассажиров этого класса просто не пускали на спасательные шлюпки."
   ],
   "metadata": {
    "collapsed": false
   }
  },
  {
   "cell_type": "code",
   "execution_count": 224,
   "outputs": [
    {
     "data": {
      "text/plain": "<AxesSubplot:xlabel='Pclass', ylabel='count'>"
     },
     "execution_count": 224,
     "metadata": {},
     "output_type": "execute_result"
    },
    {
     "data": {
      "text/plain": "<Figure size 432x288 with 1 Axes>",
      "image/png": "[encoded data removed]"
     },
     "metadata": {
      "needs_background": "light"
     },
     "output_type": "display_data"
    }
   ],
   "source": [
    "sns.countplot(x='Pclass', data=train_drop)"
   ],
   "metadata": {
    "collapsed": false,
    "pycharm": {
     "name": "#%%\n"
    }
   }
  },
  {
   "cell_type": "code",
   "execution_count": 225,
   "outputs": [
    {
     "data": {
      "text/plain": "<AxesSubplot:xlabel='Pclass', ylabel='count'>"
     },
     "execution_count": 225,
     "metadata": {},
     "output_type": "execute_result"
    },
    {
     "data": {
      "text/plain": "<Figure size 432x288 with 1 Axes>",
      "image/png": "[encoded data removed]"
     },
     "metadata": {
      "needs_background": "light"
     },
     "output_type": "display_data"
    }
   ],
   "source": [
    "sns.countplot(x='Pclass', data=train_drop, hue='Survived')"
   ],
   "metadata": {
    "collapsed": false,
    "pycharm": {
     "name": "#%%\n"
    }
   }
  },
  {
   "cell_type": "markdown",
   "source": [
    "<b>Анализ Sex</b>\n",
    "Хоть количество мужчин на борту было больше, чем количество женщин, последних спаслось в несколько раз больше.\n",
    "Скорее всего это связано с тем, что сначала на шлюпки сажали женщин, а мужчины просто не успели или не хватило места."
   ],
   "metadata": {
    "collapsed": false
   }
  },
  {
   "cell_type": "code",
   "execution_count": 226,
   "outputs": [
    {
     "data": {
      "text/plain": "<AxesSubplot:xlabel='Sex', ylabel='count'>"
     },
     "execution_count": 226,
     "metadata": {},
     "output_type": "execute_result"
    },
    {
     "data": {
      "text/plain": "<Figure size 432x288 with 1 Axes>",
      "image/png": "[encoded data removed]"
     },
     "metadata": {
      "needs_background": "light"
     },
     "output_type": "display_data"
    }
   ],
   "source": [
    "sns.countplot(x='Sex', data=train_drop)"
   ],
   "metadata": {
    "collapsed": false,
    "pycharm": {
     "name": "#%%\n"
    }
   }
  },
  {
   "cell_type": "code",
   "execution_count": 227,
   "outputs": [
    {
     "data": {
      "text/plain": "<AxesSubplot:xlabel='Sex', ylabel='count'>"
     },
     "execution_count": 227,
     "metadata": {},
     "output_type": "execute_result"
    },
    {
     "data": {
      "text/plain": "<Figure size 432x288 with 1 Axes>",
      "image/png": "[encoded data removed]"
     },
     "metadata": {
      "needs_background": "light"
     },
     "output_type": "display_data"
    }
   ],
   "source": [
    "sns.countplot(x='Sex', data=train_drop, hue='Survived')"
   ],
   "metadata": {
    "collapsed": false,
    "pycharm": {
     "name": "#%%\n"
    }
   }
  },
  {
   "cell_type": "markdown",
   "source": [
    "<b>Анализ Age</b>\n",
    "На борту в основном были пассажиры молодого возраста 20-30 лет.\n",
    "Распределение возраста по выжившим полностью повторяет рисунок возраста по пассажирам.\n",
    "Таким образом, делаем вывод, что какого-либо приоритета по возрасту на спасение не было.\n",
    "Спасали всех (в первую очередь - женщин)."
   ],
   "metadata": {
    "collapsed": false
   }
  },
  {
   "cell_type": "code",
   "execution_count": 228,
   "outputs": [
    {
     "data": {
      "text/plain": "<AxesSubplot:xlabel='Age', ylabel='count'>"
     },
     "execution_count": 228,
     "metadata": {},
     "output_type": "execute_result"
    },
    {
     "data": {
      "text/plain": "<Figure size 1080x720 with 1 Axes>",
      "image/png": "[encoded data removed]"
     },
     "metadata": {
      "needs_background": "light"
     },
     "output_type": "display_data"
    }
   ],
   "source": [
    "plt.figure(figsize=[15,10])\n",
    "sns.countplot(x='Age', data=train_drop, hue='Sex')"
   ],
   "metadata": {
    "collapsed": false,
    "pycharm": {
     "name": "#%%\n"
    }
   }
  },
  {
   "cell_type": "code",
   "execution_count": 229,
   "outputs": [
    {
     "data": {
      "text/plain": "<AxesSubplot:xlabel='Age', ylabel='count'>"
     },
     "execution_count": 229,
     "metadata": {},
     "output_type": "execute_result"
    },
    {
     "data": {
      "text/plain": "<Figure size 1080x720 with 1 Axes>",
      "image/png": "[encoded data removed]"
     },
     "metadata": {
      "needs_background": "light"
     },
     "output_type": "display_data"
    }
   ],
   "source": [
    "plt.figure(figsize=[15,10])\n",
    "sns.countplot(x='Age', data=train_drop, hue='Survived')"
   ],
   "metadata": {
    "collapsed": false,
    "pycharm": {
     "name": "#%%\n"
    }
   }
  },
  {
   "cell_type": "markdown",
   "source": [
    "<b>Анализ SibSp</b>\n",
    "На борту в основном, были одинокие пассажиры. Совсем немного - с одним членом семьи. И подавляющее меньшинство - большая семья.\n",
    "Спасались, как видно на графике, без какого-либо приоритета."
   ],
   "metadata": {
    "collapsed": false
   }
  },
  {
   "cell_type": "code",
   "execution_count": 230,
   "outputs": [
    {
     "data": {
      "text/plain": "<AxesSubplot:xlabel='SibSp', ylabel='count'>"
     },
     "execution_count": 230,
     "metadata": {},
     "output_type": "execute_result"
    },
    {
     "data": {
      "text/plain": "<Figure size 432x288 with 1 Axes>",
      "image/png": "[encoded data removed]"
     },
     "metadata": {
      "needs_background": "light"
     },
     "output_type": "display_data"
    }
   ],
   "source": [
    "sns.countplot(x='SibSp', data=train_drop)"
   ],
   "metadata": {
    "collapsed": false,
    "pycharm": {
     "name": "#%%\n"
    }
   }
  },
  {
   "cell_type": "code",
   "execution_count": 231,
   "outputs": [
    {
     "data": {
      "text/plain": "<AxesSubplot:xlabel='SibSp', ylabel='count'>"
     },
     "execution_count": 231,
     "metadata": {},
     "output_type": "execute_result"
    },
    {
     "data": {
      "text/plain": "<Figure size 432x288 with 1 Axes>",
      "image/png": "[encoded data removed]"
     },
     "metadata": {
      "needs_background": "light"
     },
     "output_type": "display_data"
    }
   ],
   "source": [
    "sns.countplot(x='SibSp', data=train_drop, hue=\"Survived\")"
   ],
   "metadata": {
    "collapsed": false,
    "pycharm": {
     "name": "#%%\n"
    }
   }
  },
  {
   "cell_type": "markdown",
   "source": [
    "<b>Анализ Parch</b>\n",
    "По аналогии с предыдущим признаком, спасались как могли."
   ],
   "metadata": {
    "collapsed": false
   }
  },
  {
   "cell_type": "code",
   "execution_count": 232,
   "outputs": [
    {
     "data": {
      "text/plain": "<AxesSubplot:xlabel='Parch', ylabel='count'>"
     },
     "execution_count": 232,
     "metadata": {},
     "output_type": "execute_result"
    },
    {
     "data": {
      "text/plain": "<Figure size 432x288 with 1 Axes>",
      "image/png": "[encoded data removed]"
     },
     "metadata": {
      "needs_background": "light"
     },
     "output_type": "display_data"
    }
   ],
   "source": [
    "sns.countplot(x='Parch', data=train_drop)"
   ],
   "metadata": {
    "collapsed": false,
    "pycharm": {
     "name": "#%%\n"
    }
   }
  },
  {
   "cell_type": "code",
   "execution_count": 233,
   "outputs": [
    {
     "data": {
      "text/plain": "<AxesSubplot:xlabel='Parch', ylabel='count'>"
     },
     "execution_count": 233,
     "metadata": {},
     "output_type": "execute_result"
    },
    {
     "data": {
      "text/plain": "<Figure size 432x288 with 1 Axes>",
      "image/png": "[encoded data removed]"
     },
     "metadata": {
      "needs_background": "light"
     },
     "output_type": "display_data"
    }
   ],
   "source": [
    "sns.countplot(x='Parch', data=train_drop, hue=\"Survived\")"
   ],
   "metadata": {
    "collapsed": false,
    "pycharm": {
     "name": "#%%\n"
    }
   }
  },
  {
   "cell_type": "markdown",
   "source": [
    "<b>Анализ Fare</b>\n",
    "Видно, что максимальное значение сильно удалено от среднего и медианы, следовательно, есть выбросы.\n",
    "Уберем выбросы, выходящие за 90й квантиль.\n",
    "Видим, что больше всего билетов было куплено за цену в районе 10 долларов (видимо, 3 класс), в 2 раза меньше - за цену в 30 долларов (2 класс) и за первый класс было продано менее всего билетов со средней ценой в 70 долларов."
   ],
   "metadata": {
    "collapsed": false
   }
  },
  {
   "cell_type": "code",
   "execution_count": 234,
   "outputs": [],
   "source": [
    "q = train_drop.Fare.quantile(0.90)\n",
    "fare = train_drop[train_drop.Fare < q]"
   ],
   "metadata": {
    "collapsed": false,
    "pycharm": {
     "name": "#%%\n"
    }
   }
  },
  {
   "cell_type": "code",
   "execution_count": 235,
   "outputs": [
    {
     "data": {
      "text/plain": "<AxesSubplot:xlabel='Fare', ylabel='Count'>"
     },
     "execution_count": 235,
     "metadata": {},
     "output_type": "execute_result"
    },
    {
     "data": {
      "text/plain": "<Figure size 432x288 with 1 Axes>",
      "image/png": "[encoded data removed]"
     },
     "metadata": {
      "needs_background": "light"
     },
     "output_type": "display_data"
    }
   ],
   "source": [
    "sns.histplot(fare.Fare, bins=50)"
   ],
   "metadata": {
    "collapsed": false,
    "pycharm": {
     "name": "#%%\n"
    }
   }
  },
  {
   "cell_type": "markdown",
   "source": [
    "<b>Анализ Embarked</b>\n",
    "Из графиков видно, что подавляющее большинство пассажиров было из Southampton, 20к - из Cherbourg, и остальные - из Queenstown.\n"
   ],
   "metadata": {
    "collapsed": false
   }
  },
  {
   "cell_type": "code",
   "execution_count": 236,
   "outputs": [
    {
     "data": {
      "text/plain": "<AxesSubplot:xlabel='Embarked', ylabel='count'>"
     },
     "execution_count": 236,
     "metadata": {},
     "output_type": "execute_result"
    },
    {
     "data": {
      "text/plain": "<Figure size 432x288 with 1 Axes>",
      "image/png": "[encoded data removed]"
     },
     "metadata": {
      "needs_background": "light"
     },
     "output_type": "display_data"
    }
   ],
   "source": [
    "sns.countplot(x='Embarked', data=train_drop)"
   ],
   "metadata": {
    "collapsed": false,
    "pycharm": {
     "name": "#%%\n"
    }
   }
  },
  {
   "cell_type": "code",
   "execution_count": 237,
   "outputs": [
    {
     "data": {
      "text/plain": "<AxesSubplot:xlabel='Embarked', ylabel='count'>"
     },
     "execution_count": 237,
     "metadata": {},
     "output_type": "execute_result"
    },
    {
     "data": {
      "text/plain": "<Figure size 432x288 with 1 Axes>",
      "image/png": "[encoded data removed]"
     },
     "metadata": {
      "needs_background": "light"
     },
     "output_type": "display_data"
    }
   ],
   "source": [
    "sns.countplot(x='Embarked', data=train_drop, hue='Survived')"
   ],
   "metadata": {
    "collapsed": false,
    "pycharm": {
     "name": "#%%\n"
    }
   }
  },
  {
   "cell_type": "markdown",
   "source": [
    "Интересно, что очень много пассажиров из Cherbourg спаслось, погибло лишь немного.\n",
    "Возможно, что почти все они - богатые женщины (из кают бизнес-классов)?\n",
    "2 графика ниже это подтверждают."
   ],
   "metadata": {
    "collapsed": false
   }
  },
  {
   "cell_type": "code",
   "execution_count": 238,
   "outputs": [
    {
     "data": {
      "text/plain": "<AxesSubplot:xlabel='Embarked', ylabel='count'>"
     },
     "execution_count": 238,
     "metadata": {},
     "output_type": "execute_result"
    },
    {
     "data": {
      "text/plain": "<Figure size 432x288 with 1 Axes>",
      "image/png": "[encoded data removed]"
     },
     "metadata": {
      "needs_background": "light"
     },
     "output_type": "display_data"
    }
   ],
   "source": [
    "sns.countplot(x='Embarked', data=train_drop, hue='Sex')"
   ],
   "metadata": {
    "collapsed": false,
    "pycharm": {
     "name": "#%%\n"
    }
   }
  },
  {
   "cell_type": "code",
   "execution_count": 239,
   "outputs": [
    {
     "data": {
      "text/plain": "<AxesSubplot:xlabel='Embarked', ylabel='count'>"
     },
     "execution_count": 239,
     "metadata": {},
     "output_type": "execute_result"
    },
    {
     "data": {
      "text/plain": "<Figure size 432x288 with 1 Axes>",
      "image/png": "[encoded data removed]"
     },
     "metadata": {
      "needs_background": "light"
     },
     "output_type": "display_data"
    }
   ],
   "source": [
    "sns.countplot(x='Embarked', data=train_drop, hue='Pclass')"
   ],
   "metadata": {
    "collapsed": false,
    "pycharm": {
     "name": "#%%\n"
    }
   }
  },
  {
   "cell_type": "markdown",
   "source": [
    "# Summary"
   ],
   "metadata": {
    "collapsed": false
   }
  },
  {
   "cell_type": "markdown",
   "id": "72e3fb13",
   "metadata": {
    "pycharm": {
     "name": "#%% md\n"
    }
   },
   "source": [
    "Вывод: больше всего шансов спастись у богатых женщин из кают бизнес-класса.\n"
   ]
  }
 ],
 "metadata": {
  "kernelspec": {
   "display_name": "Python 3 (ipykernel)",
   "language": "python",
   "name": "python3"
  },
  "language_info": {
   "codemirror_mode": {
    "name": "ipython",
    "version": 3
   },
   "file_extension": ".py",
   "mimetype": "text/x-python",
   "name": "python",
   "nbconvert_exporter": "python",
   "pygments_lexer": "ipython3",
   "version": "3.8.12"
  },
  "toc": {
   "base_numbering": 1,
   "nav_menu": {},
   "number_sections": true,
   "sideBar": true,
   "skip_h1_title": false,
   "title_cell": "Table of Contents",
   "title_sidebar": "Contents",
   "toc_cell": false,
   "toc_position": {},
   "toc_section_display": true,
   "toc_window_display": false
  }
 },
 "nbformat": 4,
 "nbformat_minor": 5
}